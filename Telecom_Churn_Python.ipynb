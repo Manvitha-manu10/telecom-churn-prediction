{
  "metadata": {
    "kernelspec": {
      "name": "python",
      "display_name": "Python (Pyodide)",
      "language": "python"
    },
    "language_info": {
      "codemirror_mode": {
        "name": "python",
        "version": 3
      },
      "file_extension": ".py",
      "mimetype": "text/x-python",
      "name": "python",
      "nbconvert_exporter": "python",
      "pygments_lexer": "ipython3",
      "version": "3.8"
    }
  },
  "nbformat_minor": 5,
  "nbformat": 4,
  "cells": [
    {
      "id": "9961c585-9e8c-494d-8b7a-a36a4ebeef4e",
      "cell_type": "code",
      "source": "import pandas as pd\nfrom sklearn.model_selection import train_test_split\nfrom sklearn.preprocessing import LabelEncoder\nfrom sklearn.linear_model import LogisticRegression\nfrom sklearn.tree import DecisionTreeClassifier\nfrom sklearn.ensemble import RandomForestClassifier\nfrom sklearn.svm import SVC\nfrom sklearn.metrics import accuracy_score, precision_score, recall_score, f1_score",
      "metadata": {
        "trusted": true
      },
      "outputs": [],
      "execution_count": 1
    },
    {
      "id": "c73a1d43-df0e-4bcb-bd7d-6a86cdecc4bb",
      "cell_type": "code",
      "source": "# Load the dataset\nfile_path = \"Telecom_Churn_data.csv\"  # Change path if needed\ndf = pd.read_csv(file_path)",
      "metadata": {
        "trusted": true
      },
      "outputs": [],
      "execution_count": 4
    },
    {
      "id": "f5c4079b-355d-43cb-b46a-a891f5be49af",
      "cell_type": "code",
      "source": "# Encode categorical variables\ndf[\"International plan\"] = df[\"International plan\"].map({\"Yes\": 1, \"No\": 0})\ndf[\"Voice mail plan\"] = df[\"Voice mail plan\"].map({\"Yes\": 1, \"No\": 0})\ndf[\"Churn\"] = df[\"Churn\"].astype(int)  # Convert boolean to 0/1",
      "metadata": {
        "trusted": true
      },
      "outputs": [],
      "execution_count": 5
    },
    {
      "id": "b8532d1a-7b75-4969-b1f9-e195d0d084c3",
      "cell_type": "code",
      "source": "# Drop unnecessary columns\ndf.drop(columns=[\"State\"], inplace=True)  # 'Phone Number' not included in dataset",
      "metadata": {
        "trusted": true
      },
      "outputs": [],
      "execution_count": 6
    },
    {
      "id": "0a3b45b8-b387-4dad-9a82-a0983214de2d",
      "cell_type": "code",
      "source": "# Handle missing values (choose one method)\ndf.dropna(inplace=True)  # Option 1: Remove rows with NaN values\n# df.fillna(df.mean(), inplace=True)  # Option 2: Fill missing values with mean",
      "metadata": {
        "trusted": true
      },
      "outputs": [],
      "execution_count": 7
    },
    {
      "id": "4f6caa5e-75a2-4c3c-be27-f17da27f9c2e",
      "cell_type": "code",
      "source": "# Define features and target\nX = df.drop(columns=[\"Churn\"])\ny = df[\"Churn\"]",
      "metadata": {
        "trusted": true
      },
      "outputs": [],
      "execution_count": 8
    },
    {
      "id": "a2d09297-ab57-4c17-a757-c70aa96237d1",
      "cell_type": "code",
      "source": "# Split data into training (80%) and testing (20%) sets\nX_train, X_test, y_train, y_test = train_test_split(X, y, test_size=0.2, random_state=42)",
      "metadata": {
        "trusted": true
      },
      "outputs": [],
      "execution_count": 9
    },
    {
      "id": "a0bda85d-3b4f-4461-86ec-485cc56f4ac6",
      "cell_type": "code",
      "source": "# Initialize models\nmodels = {\n    \"Logistic Regression\": LogisticRegression(solver=\"newton-cg\", max_iter=1000, random_state=42),\n    \"Decision Tree\": DecisionTreeClassifier(random_state=42),\n    \"Random Forest\": RandomForestClassifier(n_estimators=100, random_state=42),\n    \"SVM\": SVC(kernel=\"linear\", random_state=42)\n}",
      "metadata": {
        "trusted": true
      },
      "outputs": [],
      "execution_count": 19
    },
    {
      "id": "f97af267-c406-4ca7-a823-12829af1654e",
      "cell_type": "code",
      "source": "# Train and evaluate models\nresults = {}\nfor name, model in models.items():\n    model.fit(X_train, y_train)\n    y_pred = model.predict(X_test)\n\n    results[name] = {\n        \"Accuracy\": accuracy_score(y_test, y_pred),\n        \"Precision\": precision_score(y_test, y_pred),\n        \"Recall\": recall_score(y_test, y_pred),\n        \"F1-score\": f1_score(y_test, y_pred)\n    }",
      "metadata": {
        "trusted": true
      },
      "outputs": [],
      "execution_count": 20
    },
    {
      "id": "6fa49192-757c-4b3a-84b6-34e119a5cf15",
      "cell_type": "code",
      "source": "# Convert results to DataFrame and display\nresults_df = pd.DataFrame(results).T\nprint(\"Model Performance:\\n\", results_df)",
      "metadata": {
        "trusted": true
      },
      "outputs": [
        {
          "name": "stdout",
          "output_type": "stream",
          "text": "Model Performance:\n                      Accuracy  Precision    Recall  F1-score\nLogistic Regression  0.861423   0.580645  0.227848  0.327273\nDecision Tree        0.911985   0.735294  0.632911  0.680272\nRandom Forest        0.949438   0.981481  0.670886  0.796992\nSVM                  0.865169   1.000000  0.088608  0.162791\n"
        }
      ],
      "execution_count": 21
    },
    {
      "id": "de39a0f3-f6ea-4a00-8f0a-71b777e25d71",
      "cell_type": "code",
      "source": "# Export predictions for Tableau\nbest_model = RandomForestClassifier(n_estimators=100, random_state=42)\nbest_model.fit(X_train, y_train)\ndf[\"Predicted Churn\"] = best_model.predict(X)",
      "metadata": {
        "trusted": true
      },
      "outputs": [],
      "execution_count": 22
    },
    {
      "id": "6fa7c88f-1948-4281-8ca9-f7faeaf6d743",
      "cell_type": "code",
      "source": "# Save to CSV for Tableau\ndf.to_csv(\"churn_predictions_for_tableau.csv\", index=False)\nprint(\"Predictions exported successfully for Tableau.\")",
      "metadata": {
        "trusted": true
      },
      "outputs": [
        {
          "name": "stdout",
          "output_type": "stream",
          "text": "Predictions exported successfully for Tableau.\n"
        }
      ],
      "execution_count": 23
    },
    {
      "id": "89369277-a15e-41e9-8a9f-cf86f7bf269d",
      "cell_type": "code",
      "source": "",
      "metadata": {
        "trusted": true
      },
      "outputs": [],
      "execution_count": null
    }
  ]
}